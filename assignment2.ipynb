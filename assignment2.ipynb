{
 "cells": [
  {
   "cell_type": "code",
   "execution_count": null,
   "id": "3018a4d4-558d-4cc4-8225-0b22bcecf8f9",
   "metadata": {},
   "outputs": [],
   "source": [
    "#Assingment2 30jan 2023"
   ]
  },
  {
   "cell_type": "markdown",
   "id": "b0361b54-cc93-44e6-aaff-0619e8bc635a",
   "metadata": {},
   "source": [
    "Q1.Write a program to accept percentage from the user and display the grade according to the following?\n",
    "\n",
    "Marks           Grade\n",
    ">90                A\n",
    ">80 and <=90       B\n",
    ">=60 and <=80      C\n",
    "below 60           D"
   ]
  },
  {
   "cell_type": "code",
   "execution_count": null,
   "id": "a789fda3-f1c5-4594-a067-fdff10495fab",
   "metadata": {},
   "outputs": [],
   "source": [
    "marks=int(input(\"enter your percentage\"))\n",
    "if marks>90:\n",
    "    print(\"Grade A\")\n",
    "elif  marks>80 and marks<= 90:\n",
    "    print(\"Grade B\")\n",
    "elif marks>=60 and marks<=80:\n",
    "    print(\"Grade c\")\n",
    "else:\n",
    "    print(\"Grade D\")"
   ]
  },
  {
   "cell_type": "markdown",
   "id": "eb28681d-e285-4b38-a4d1-bb51f9402f20",
   "metadata": {},
   "source": [
    "Q2.Wrtie a program to accept a cost price of a bike  and display road tax to be paid according to the following criteria?\n",
    "Tax       cost price(in Rs)\n",
    "15%           >100000\n",
    "10%           >50000 and <=100000\n",
    "5%            <=50000\n"
   ]
  },
  {
   "cell_type": "code",
   "execution_count": 4,
   "id": "d035c3ab-4bd8-48b9-af55-b7670def2d68",
   "metadata": {},
   "outputs": [
    {
     "name": "stdin",
     "output_type": "stream",
     "text": [
      "enter the bike price 4000\n"
     ]
    },
    {
     "name": "stdout",
     "output_type": "stream",
     "text": [
      "Tax is 5%\n"
     ]
    }
   ],
   "source": [
    "Roadtax=int(input(\"enter the bike price\"))\n",
    "if Roadtax>100000:\n",
    "    print(\"tax is 15%\")\n",
    "elif  Roadtax>50000 and Roadtax<=100000:\n",
    "    print(\"tax is 10%\")\n",
    "else: \n",
    "    print(\"Tax is 5%\")\n"
   ]
  },
  {
   "cell_type": "markdown",
   "id": "c8351452-8d91-402f-b3f2-068ea4853de1",
   "metadata": {},
   "source": [
    "Q3.Accept any city from the user and display monument of that city?\n",
    "City           MONUMENT\n",
    "Delhi          Redfort\n",
    "Agra           Taj Mahal\n",
    "jaipur         JalMahal"
   ]
  },
  {
   "cell_type": "code",
   "execution_count": 13,
   "id": "133c1300-7a49-4f27-b626-3f985a2d05b2",
   "metadata": {},
   "outputs": [
    {
     "name": "stdin",
     "output_type": "stream",
     "text": [
      "enter the city goa\n"
     ]
    },
    {
     "name": "stdout",
     "output_type": "stream",
     "text": [
      "invalid city name\n"
     ]
    }
   ],
   "source": [
    "Monument=str(input(\"enter the city\"))\n",
    "if  Monument  ==\"Delhi\":\n",
    "    print(\"Monument : Redfort\")\n",
    "elif  Monument==\"Agra\":\n",
    "    print(\"Monument : Taj Mahal\")\n",
    "elif   Monument==\"jaipur\":\n",
    "    print(\"Monument:Jal Mahal\")\n",
    "else:\n",
    "    print(\"invalid city name\")\n",
    "    "
   ]
  },
  {
   "cell_type": "markdown",
   "id": "3ae86153-a873-44ae-a0b1-bb9a0d7ed9e2",
   "metadata": {},
   "source": [
    "Q4.Check how many times a given number can be divided by 3 before it is less than or equal to 10?"
   ]
  },
  {
   "cell_type": "code",
   "execution_count": 13,
   "id": "a4c12576-74e7-4ee8-8ffe-0487cddcd360",
   "metadata": {},
   "outputs": [
    {
     "name": "stdin",
     "output_type": "stream",
     "text": [
      "Enter a number:  12\n"
     ]
    },
    {
     "name": "stdout",
     "output_type": "stream",
     "text": [
      "The number can be divided by 3 1 times before it is less than or equal to 10\n"
     ]
    }
   ],
   "source": [
    "num = int(input(\"Enter a number: \"))\n",
    "count = 0\n",
    "while num > 10:\n",
    "    num = num / 3\n",
    "    count += 1\n",
    "\n",
    "print(\"The number can be divided by 3\", count, \"times before it is less than or equal to 10\")"
   ]
  },
  {
   "cell_type": "markdown",
   "id": "91ce6723-31ab-41ca-9339-b2a45b80db3f",
   "metadata": {},
   "source": [
    "Q5.Why and when to use while loop in pythan give a detailed description with exxample?"
   ]
  },
  {
   "cell_type": "markdown",
   "id": "d5c31b43-8ea2-48cf-b464-b6717601818b",
   "metadata": {},
   "source": [
    "Python while loop is used to run a block code until a certain condition is met.\n",
    "The syntax of while loop is:\n",
    "\n",
    "while condition:\n",
    "    # body of while loop\n",
    "Here,\n",
    "\n",
    "A while loop evaluates the condition\n",
    "If the condition evaluates to True, the code inside the while loop is executed.\n",
    "condition is evaluated again.\n",
    "This process continues until the condition is False.\n",
    "When condition evaluates to False, the loop stops.\n",
    "\n",
    "example:# program to display numbers from 1 to 5"
   ]
  },
  {
   "cell_type": "code",
   "execution_count": 14,
   "id": "37543ce5-ffed-4f82-b462-47b8de7080eb",
   "metadata": {},
   "outputs": [
    {
     "name": "stdout",
     "output_type": "stream",
     "text": [
      "1\n",
      "2\n",
      "3\n",
      "4\n",
      "5\n"
     ]
    }
   ],
   "source": [
    "i = 1\n",
    "n = 5\n",
    "while i <= n:\n",
    "    print(i)\n",
    "    i = i + 1"
   ]
  },
  {
   "cell_type": "markdown",
   "id": "4ce2e8e0-36dc-49e4-add5-4653a0f0b726",
   "metadata": {},
   "source": [
    "Q6.Use nested while loop to print three different pattern?"
   ]
  },
  {
   "cell_type": "code",
   "execution_count": 15,
   "id": "14bc22f3-be58-4228-83ff-e13e8a5fc06c",
   "metadata": {},
   "outputs": [
    {
     "name": "stdout",
     "output_type": "stream",
     "text": [
      "1 \n",
      "3 3 \n",
      "5 5 5 \n",
      "7 7 7 7 \n",
      "9 9 9 9 9 \n"
     ]
    }
   ],
   "source": [
    "rows = 5\n",
    "i = 1\n",
    "while i <= rows:\n",
    "    j = 1\n",
    "    while j <= i:\n",
    "        print((i * 2 - 1), end=\" \")\n",
    "        j = j + 1\n",
    "    i = i + 1\n",
    "    print('')"
   ]
  },
  {
   "cell_type": "code",
   "execution_count": 16,
   "id": "a3fe0687-22a8-4a4c-acc9-ddf23791534b",
   "metadata": {},
   "outputs": [
    {
     "name": "stdout",
     "output_type": "stream",
     "text": [
      "1 \n",
      "1 2 \n",
      "1 2 3 \n",
      "1 2 3 4 \n",
      "1 2 3 4 5 \n"
     ]
    }
   ],
   "source": [
    "i=1\n",
    "while i<=5:\n",
    "    j=1\n",
    "    while j<=i:\n",
    "        print(j,end=\" \")\n",
    "        j=j+1\n",
    "    print(\"\")\n",
    "    i=i+1"
   ]
  },
  {
   "cell_type": "code",
   "execution_count": 18,
   "id": "ee85de55-1d0d-4c7f-8d2b-ec3d8e409173",
   "metadata": {},
   "outputs": [
    {
     "name": "stdout",
     "output_type": "stream",
     "text": [
      "0 \n",
      "1 1 \n",
      "2 2 2 \n",
      "3 3 3 3 \n",
      "4 4 4 4 4 \n"
     ]
    }
   ],
   "source": [
    "rows = 5\n",
    "i = 1\n",
    "while i <= rows:\n",
    "    j = 1\n",
    "    while j <= i:\n",
    "        print((i * 1- 1), end=\" \")\n",
    "        j = j + 1\n",
    "    i = i + 1\n",
    "    print('')"
   ]
  },
  {
   "cell_type": "code",
   "execution_count": null,
   "id": "19bf6d95-d066-45c0-ba61-768af78355a2",
   "metadata": {},
   "outputs": [],
   "source": [
    "Q7.Reverse a while loop to display number from 10 to 1?"
   ]
  },
  {
   "cell_type": "code",
   "execution_count": 19,
   "id": "5cef1bc0-4c8c-4111-9deb-91bd8d45c94b",
   "metadata": {},
   "outputs": [
    {
     "name": "stdout",
     "output_type": "stream",
     "text": [
      "10\n",
      "9\n",
      "8\n",
      "7\n",
      "6\n",
      "5\n",
      "4\n",
      "3\n",
      "2\n",
      "1\n"
     ]
    }
   ],
   "source": [
    "i = 10\n",
    "while i > 0:\n",
    "    print(i)\n",
    "    i = i - 1"
   ]
  },
  {
   "cell_type": "code",
   "execution_count": null,
   "id": "7a5c8375-d357-415f-a11d-b03d35434fb5",
   "metadata": {},
   "outputs": [],
   "source": [
    "Q8.Reverse a while loop to display number from 10 to 1?"
   ]
  },
  {
   "cell_type": "code",
   "execution_count": 20,
   "id": "0ab1ef60-0095-43f7-863e-360d10ab6507",
   "metadata": {},
   "outputs": [
    {
     "name": "stdout",
     "output_type": "stream",
     "text": [
      "10\n",
      "9\n",
      "8\n",
      "7\n",
      "6\n",
      "5\n",
      "4\n",
      "3\n",
      "2\n",
      "1\n"
     ]
    }
   ],
   "source": [
    "i = 10\n",
    "while i > 0:\n",
    "    print(i)\n",
    "    i = i - 1"
   ]
  },
  {
   "cell_type": "code",
   "execution_count": null,
   "id": "a7704e48-b635-4571-b32f-7b8c20360db6",
   "metadata": {},
   "outputs": [],
   "source": []
  }
 ],
 "metadata": {
  "kernelspec": {
   "display_name": "Python 3 (ipykernel)",
   "language": "python",
   "name": "python3"
  },
  "language_info": {
   "codemirror_mode": {
    "name": "ipython",
    "version": 3
   },
   "file_extension": ".py",
   "mimetype": "text/x-python",
   "name": "python",
   "nbconvert_exporter": "python",
   "pygments_lexer": "ipython3",
   "version": "3.10.8"
  }
 },
 "nbformat": 4,
 "nbformat_minor": 5
}
